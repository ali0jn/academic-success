{
 "cells": [
  {
   "cell_type": "code",
   "execution_count": null,
   "metadata": {},
   "outputs": [],
   "source": [
    "import pandas as pd\n",
    "import numpy as np\n",
    "import matplotlib.pyplot as plt\n",
    "import recommendations\n",
    "from sklearn.cluster import KMeans\n",
    "from sklearn.metrics import mean_squared_error, r2_score"
   ]
  },
  {
   "cell_type": "code",
   "execution_count": null,
   "metadata": {},
   "outputs": [],
   "source": [
    "df = pd.read_csv('../datasets/processed_dataset.csv')\n",
    "df = df[['Student Number', 'Course Code', 'Letter Grade', 'Semester', 'Course Credit', 'GPA', 'Completed Credits', 'Department Code']]\n",
    "df"
   ]
  },
  {
   "cell_type": "code",
   "execution_count": null,
   "metadata": {},
   "outputs": [],
   "source": [
    "df = pd.concat([df, pd.get_dummies(df['Department Code'], prefix='Department Code')], axis=1)\n",
    "df.drop(['Department Code'], axis=1, inplace=True)\n",
    "cluster_features = df[['GPA', 'Completed Credits'] + list(df.columns[7:])]"
   ]
  },
  {
   "cell_type": "code",
   "execution_count": null,
   "metadata": {},
   "outputs": [],
   "source": [
    "numerical_grades = {'A+': 4.1, 'A': 4.0, 'A-': 3.7, 'B+': 3.3, 'B': 3.0, 'B-': 2.7, 'C+': 2.3, 'C': 2.0,\n",
    "                    'C-': 1.7, 'D+': 1.3, 'D': 1.0, 'D-': 0.5, 'F': 0.0}"
   ]
  },
  {
   "cell_type": "code",
   "execution_count": null,
   "metadata": {},
   "outputs": [],
   "source": [
    "semester_data = {}\n",
    "course_credits = {}\n",
    "for row_idx in df.index:\n",
    "    student_number = df.iloc[row_idx, 0]\n",
    "    course_code = df.iloc[row_idx, 1]\n",
    "    letter_grade = df.iloc[row_idx, 2]\n",
    "    semester = df.iloc[row_idx, 3]\n",
    "    credit = df.iloc[row_idx, 4]\n",
    "    \n",
    "    course_credits[course_code] = credit\n",
    "    semester_data.setdefault(semester, {})\n",
    "    semester_data[semester].setdefault(student_number, {})\n",
    "    semester_data[semester][student_number][course_code] = numerical_grades[letter_grade]"
   ]
  },
  {
   "cell_type": "code",
   "execution_count": null,
   "metadata": {},
   "outputs": [],
   "source": [
    "def get_avg_gpa(train_semester, student):\n",
    "    courses = train_semester[student]\n",
    "    total_credit = 0\n",
    "    weights = 0\n",
    "    for course in courses:\n",
    "        total_credit += course_credits[course]\n",
    "        weights += courses[course] * course_credits[course]\n",
    "    \n",
    "    return weights / total_credit"
   ]
  },
  {
   "cell_type": "code",
   "execution_count": null,
   "metadata": {},
   "outputs": [],
   "source": [
    "def get_errors(train_semester, test_semester, sim):\n",
    "    average_gpa = {}\n",
    "    y_true = []\n",
    "    y_pred = []\n",
    "    for student in train_semester:\n",
    "        recommended_courses = {}\n",
    "        recs = recommendations.getRecommendations(train_semester, student, sim)\n",
    "        for rec_grade, rec_course in recs:\n",
    "            recommended_courses.setdefault(rec_course, rec_grade)\n",
    "        average_gpa.setdefault(student, get_avg_gpa(train_semester, student))\n",
    "        \n",
    "        if student not in test_semester:\n",
    "            continue\n",
    "            \n",
    "        for course_code in test_semester[student]:\n",
    "            y_true.append(test_semester[student][course_code])\n",
    "            if course_code in recommended_courses:\n",
    "                y_pred.append(recommended_courses[course_code])\n",
    "            else:\n",
    "                y_pred.append(average_gpa[student])\n",
    "        \n",
    "    rmse = np.sqrt(mean_squared_error(y_true, y_pred))\n",
    "    r2_statistics = r2_score(y_true, y_pred)\n",
    "    \n",
    "    return rmse, r2_statistics"
   ]
  },
  {
   "cell_type": "code",
   "execution_count": null,
   "metadata": {},
   "outputs": [],
   "source": [
    "def get_clusters(num_clusters, semester_data, cluster_features):\n",
    "    kmeans_dict = {}\n",
    "    kmeans = KMeans(n_clusters=num_clusters).fit(cluster_features)\n",
    "    for label_idx in range(len(kmeans.labels_)):\n",
    "        kmeans_dict.setdefault(kmeans.labels_[label_idx], {})\n",
    "        student_number = df.iloc[label_idx, 0]\n",
    "        if student_number in semester_data:\n",
    "            kmeans_dict[kmeans.labels_[label_idx]][student_number] = semester_data[student_number]\n",
    "    return kmeans_dict"
   ]
  },
  {
   "cell_type": "code",
   "execution_count": null,
   "metadata": {},
   "outputs": [],
   "source": [
    "def predict(semester_data, sim, cluster_features):\n",
    "    errors = {}\n",
    "    for num_clusters in range(2, 8):\n",
    "        errors.setdefault(num_clusters, {})\n",
    "        for sem_idx in range(len(sorted(semester_data))-1):\n",
    "            errors[num_clusters].setdefault(sem_idx, {})\n",
    "            if sem_idx == 0:\n",
    "                train_semester = semester_data[sorted(semester_data)[sem_idx]]\n",
    "            else:\n",
    "                new_semester = semester_data[sorted(semester_data)[sem_idx]]\n",
    "                for student in new_semester:\n",
    "                    if student in train_semester:\n",
    "                        train_semester[student].update(new_semester[student])\n",
    "                    else:\n",
    "                        train_semester[student] = new_semester[student]\n",
    "            test_semester = semester_data[sorted(semester_data)[sem_idx+1]]\n",
    "            \n",
    "            clusters_train = get_clusters(num_clusters, train_semester, cluster_features)\n",
    "            clusters_test = get_clusters(num_clusters, test_semester, cluster_features)\n",
    "            \n",
    "            for cluster_label in clusters_train:\n",
    "                rmse, r2_score = get_errors(clusters_train[cluster_label], clusters_test[cluster_label], sim)\n",
    "                errors[num_clusters][sem_idx][cluster_label] = [rmse, r2_score]\n",
    "    return errors"
   ]
  },
  {
   "cell_type": "code",
   "execution_count": null,
   "metadata": {},
   "outputs": [],
   "source": [
    "errors = predict(semester_data, recommendations.sim_distance, cluster_features)"
   ]
  },
  {
   "cell_type": "code",
   "execution_count": null,
   "metadata": {},
   "outputs": [],
   "source": [
    "errors = predict(semester_data, recommendations.sim_jaccard, cluster_features)"
   ]
  },
  {
   "cell_type": "code",
   "execution_count": null,
   "metadata": {},
   "outputs": [],
   "source": [
    "errors = predict(semester_data, recommendations.sim_pearson, cluster_features)"
   ]
  }
 ],
 "metadata": {
  "kernelspec": {
   "display_name": "Python 3",
   "language": "python",
   "name": "python3"
  },
  "language_info": {
   "codemirror_mode": {
    "name": "ipython",
    "version": 3
   },
   "file_extension": ".py",
   "mimetype": "text/x-python",
   "name": "python",
   "nbconvert_exporter": "python",
   "pygments_lexer": "ipython3",
   "version": "3.6.9"
  }
 },
 "nbformat": 4,
 "nbformat_minor": 4
}
